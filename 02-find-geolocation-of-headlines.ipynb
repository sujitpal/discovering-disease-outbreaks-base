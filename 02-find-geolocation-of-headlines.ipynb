{
 "cells": [
  {
   "cell_type": "code",
   "execution_count": 1,
   "metadata": {},
   "outputs": [],
   "source": [
    "import geonamescache\n",
    "import numpy as np\n",
    "import os\n",
    "import pandas as pd"
   ]
  },
  {
   "cell_type": "code",
   "execution_count": 2,
   "metadata": {},
   "outputs": [],
   "source": [
    "DATA_DIR = \"data\""
   ]
  },
  {
   "cell_type": "code",
   "execution_count": 3,
   "metadata": {},
   "outputs": [],
   "source": [
    "gc = geonamescache.GeonamesCache()"
   ]
  },
  {
   "cell_type": "code",
   "execution_count": 4,
   "metadata": {},
   "outputs": [
    {
     "data": {
      "text/html": [
       "<div>\n",
       "<style scoped>\n",
       "    .dataframe tbody tr th:only-of-type {\n",
       "        vertical-align: middle;\n",
       "    }\n",
       "\n",
       "    .dataframe tbody tr th {\n",
       "        vertical-align: top;\n",
       "    }\n",
       "\n",
       "    .dataframe thead th {\n",
       "        text-align: right;\n",
       "    }\n",
       "</style>\n",
       "<table border=\"1\" class=\"dataframe\">\n",
       "  <thead>\n",
       "    <tr style=\"text-align: right;\">\n",
       "      <th></th>\n",
       "      <th>headline</th>\n",
       "      <th>city</th>\n",
       "      <th>country</th>\n",
       "    </tr>\n",
       "  </thead>\n",
       "  <tbody>\n",
       "    <tr>\n",
       "      <th>0</th>\n",
       "      <td>Zika Outbreak Hits Miami</td>\n",
       "      <td>Miami</td>\n",
       "      <td>United States</td>\n",
       "    </tr>\n",
       "    <tr>\n",
       "      <th>1</th>\n",
       "      <td>Could Zika Reach New York City?</td>\n",
       "      <td>New York City</td>\n",
       "      <td>United States</td>\n",
       "    </tr>\n",
       "    <tr>\n",
       "      <th>2</th>\n",
       "      <td>First Case of Zika in Miami Beach</td>\n",
       "      <td>Miami Beach</td>\n",
       "      <td>United States</td>\n",
       "    </tr>\n",
       "    <tr>\n",
       "      <th>3</th>\n",
       "      <td>Mystery Virus Spreads in Recife, Brazil</td>\n",
       "      <td>Recife</td>\n",
       "      <td>Brazil</td>\n",
       "    </tr>\n",
       "    <tr>\n",
       "      <th>4</th>\n",
       "      <td>Dallas man comes down with case of Zika</td>\n",
       "      <td>Dallas</td>\n",
       "      <td>United States</td>\n",
       "    </tr>\n",
       "  </tbody>\n",
       "</table>\n",
       "</div>"
      ],
      "text/plain": [
       "                                  headline           city        country\n",
       "0                 Zika Outbreak Hits Miami          Miami  United States\n",
       "1          Could Zika Reach New York City?  New York City  United States\n",
       "2        First Case of Zika in Miami Beach    Miami Beach  United States\n",
       "3  Mystery Virus Spreads in Recife, Brazil         Recife         Brazil\n",
       "4  Dallas man comes down with case of Zika         Dallas  United States"
      ]
     },
     "execution_count": 4,
     "metadata": {},
     "output_type": "execute_result"
    }
   ],
   "source": [
    "headlines_df = pd.read_csv(os.path.join(DATA_DIR, \"headlines-with-city-country.csv\"))\n",
    "headlines_df.head()"
   ]
  },
  {
   "cell_type": "code",
   "execution_count": 5,
   "metadata": {},
   "outputs": [
    {
     "name": "stdout",
     "output_type": "stream",
     "text": [
      "US\n",
      "IN\n",
      "BR\n"
     ]
    }
   ],
   "source": [
    "def isNaN(x):\n",
    "    return x != x\n",
    "\n",
    "countries_by_name = gc.get_countries_by_names()\n",
    "def get_country_code(country_name):\n",
    "    if isNaN(country_name):\n",
    "        return None\n",
    "    return countries_by_name[country_name][\"iso\"]\n",
    "\n",
    "# countries = headlines_df[\"country\"].values\n",
    "# for country_name in countries:\n",
    "#     print(country_name, get_country_code(country_name))\n",
    "    \n",
    "print(get_country_code(\"United States\"))\n",
    "print(get_country_code(\"India\"))\n",
    "print(get_country_code(\"Brazil\"))"
   ]
  },
  {
   "cell_type": "code",
   "execution_count": 6,
   "metadata": {},
   "outputs": [
    {
     "data": {
      "text/html": [
       "<div>\n",
       "<style scoped>\n",
       "    .dataframe tbody tr th:only-of-type {\n",
       "        vertical-align: middle;\n",
       "    }\n",
       "\n",
       "    .dataframe tbody tr th {\n",
       "        vertical-align: top;\n",
       "    }\n",
       "\n",
       "    .dataframe thead th {\n",
       "        text-align: right;\n",
       "    }\n",
       "</style>\n",
       "<table border=\"1\" class=\"dataframe\">\n",
       "  <thead>\n",
       "    <tr style=\"text-align: right;\">\n",
       "      <th></th>\n",
       "      <th>headline</th>\n",
       "      <th>city</th>\n",
       "      <th>country</th>\n",
       "      <th>countrycode</th>\n",
       "    </tr>\n",
       "  </thead>\n",
       "  <tbody>\n",
       "    <tr>\n",
       "      <th>0</th>\n",
       "      <td>Zika Outbreak Hits Miami</td>\n",
       "      <td>Miami</td>\n",
       "      <td>United States</td>\n",
       "      <td>US</td>\n",
       "    </tr>\n",
       "    <tr>\n",
       "      <th>1</th>\n",
       "      <td>Could Zika Reach New York City?</td>\n",
       "      <td>New York City</td>\n",
       "      <td>United States</td>\n",
       "      <td>US</td>\n",
       "    </tr>\n",
       "    <tr>\n",
       "      <th>2</th>\n",
       "      <td>First Case of Zika in Miami Beach</td>\n",
       "      <td>Miami Beach</td>\n",
       "      <td>United States</td>\n",
       "      <td>US</td>\n",
       "    </tr>\n",
       "    <tr>\n",
       "      <th>3</th>\n",
       "      <td>Mystery Virus Spreads in Recife, Brazil</td>\n",
       "      <td>Recife</td>\n",
       "      <td>Brazil</td>\n",
       "      <td>BR</td>\n",
       "    </tr>\n",
       "    <tr>\n",
       "      <th>4</th>\n",
       "      <td>Dallas man comes down with case of Zika</td>\n",
       "      <td>Dallas</td>\n",
       "      <td>United States</td>\n",
       "      <td>US</td>\n",
       "    </tr>\n",
       "  </tbody>\n",
       "</table>\n",
       "</div>"
      ],
      "text/plain": [
       "                                  headline           city        country  \\\n",
       "0                 Zika Outbreak Hits Miami          Miami  United States   \n",
       "1          Could Zika Reach New York City?  New York City  United States   \n",
       "2        First Case of Zika in Miami Beach    Miami Beach  United States   \n",
       "3  Mystery Virus Spreads in Recife, Brazil         Recife         Brazil   \n",
       "4  Dallas man comes down with case of Zika         Dallas  United States   \n",
       "\n",
       "  countrycode  \n",
       "0          US  \n",
       "1          US  \n",
       "2          US  \n",
       "3          BR  \n",
       "4          US  "
      ]
     },
     "execution_count": 6,
     "metadata": {},
     "output_type": "execute_result"
    }
   ],
   "source": [
    "headlines_df[\"countrycode\"] = headlines_df.apply(\n",
    "    lambda row: get_country_code(row[\"country\"]), axis=1)\n",
    "headlines_df.head()"
   ]
  },
  {
   "cell_type": "code",
   "execution_count": 7,
   "metadata": {},
   "outputs": [
    {
     "name": "stdout",
     "output_type": "stream",
     "text": [
      "('US', 32.78306, -96.80667)\n",
      "('US', 32.71571, -117.16472)\n",
      "('BR', -8.05389, -34.88111)\n"
     ]
    }
   ],
   "source": [
    "def get_latlon(city_name, country_code):\n",
    "    if isNaN(city_name) or country_code is None:\n",
    "        return (None, np.nan, np.nan)\n",
    "    cities = gc.get_cities_by_name(city_name)\n",
    "    candidates = []\n",
    "    for city in cities:\n",
    "        lat, lon, ctry = np.nan, np.nan, None\n",
    "        for x in city.values():\n",
    "            candidates.append((x[\"countrycode\"], x[\"latitude\"], x[\"longitude\"]))\n",
    "    # filter for country\n",
    "    candidates = [c for c in candidates if c[0] == country_code]\n",
    "    if len(candidates) > 0:\n",
    "        return candidates[0]\n",
    "    else:\n",
    "        return (None, np.nan, np.nan)\n",
    "    \n",
    "    \n",
    "print(get_latlon(\"Dallas\", \"US\"))\n",
    "print(get_latlon(\"San Diego\", \"US\"))\n",
    "print(get_latlon(\"Recife\", \"BR\"))"
   ]
  },
  {
   "cell_type": "code",
   "execution_count": 8,
   "metadata": {},
   "outputs": [
    {
     "data": {
      "text/html": [
       "<div>\n",
       "<style scoped>\n",
       "    .dataframe tbody tr th:only-of-type {\n",
       "        vertical-align: middle;\n",
       "    }\n",
       "\n",
       "    .dataframe tbody tr th {\n",
       "        vertical-align: top;\n",
       "    }\n",
       "\n",
       "    .dataframe thead th {\n",
       "        text-align: right;\n",
       "    }\n",
       "</style>\n",
       "<table border=\"1\" class=\"dataframe\">\n",
       "  <thead>\n",
       "    <tr style=\"text-align: right;\">\n",
       "      <th></th>\n",
       "      <th>headline</th>\n",
       "      <th>city</th>\n",
       "      <th>countrycode</th>\n",
       "      <th>latitude</th>\n",
       "      <th>longitude</th>\n",
       "    </tr>\n",
       "  </thead>\n",
       "  <tbody>\n",
       "    <tr>\n",
       "      <th>0</th>\n",
       "      <td>Zika Outbreak Hits Miami</td>\n",
       "      <td>Miami</td>\n",
       "      <td>US</td>\n",
       "      <td>25.77427</td>\n",
       "      <td>-80.19366</td>\n",
       "    </tr>\n",
       "    <tr>\n",
       "      <th>1</th>\n",
       "      <td>Could Zika Reach New York City?</td>\n",
       "      <td>New York City</td>\n",
       "      <td>US</td>\n",
       "      <td>40.71427</td>\n",
       "      <td>-74.00597</td>\n",
       "    </tr>\n",
       "    <tr>\n",
       "      <th>2</th>\n",
       "      <td>First Case of Zika in Miami Beach</td>\n",
       "      <td>Miami Beach</td>\n",
       "      <td>US</td>\n",
       "      <td>25.79065</td>\n",
       "      <td>-80.13005</td>\n",
       "    </tr>\n",
       "    <tr>\n",
       "      <th>3</th>\n",
       "      <td>Mystery Virus Spreads in Recife, Brazil</td>\n",
       "      <td>Recife</td>\n",
       "      <td>BR</td>\n",
       "      <td>-8.05389</td>\n",
       "      <td>-34.88111</td>\n",
       "    </tr>\n",
       "    <tr>\n",
       "      <th>4</th>\n",
       "      <td>Dallas man comes down with case of Zika</td>\n",
       "      <td>Dallas</td>\n",
       "      <td>US</td>\n",
       "      <td>32.78306</td>\n",
       "      <td>-96.80667</td>\n",
       "    </tr>\n",
       "  </tbody>\n",
       "</table>\n",
       "</div>"
      ],
      "text/plain": [
       "                                  headline           city countrycode  \\\n",
       "0                 Zika Outbreak Hits Miami          Miami          US   \n",
       "1          Could Zika Reach New York City?  New York City          US   \n",
       "2        First Case of Zika in Miami Beach    Miami Beach          US   \n",
       "3  Mystery Virus Spreads in Recife, Brazil         Recife          BR   \n",
       "4  Dallas man comes down with case of Zika         Dallas          US   \n",
       "\n",
       "   latitude  longitude  \n",
       "0  25.77427  -80.19366  \n",
       "1  40.71427  -74.00597  \n",
       "2  25.79065  -80.13005  \n",
       "3  -8.05389  -34.88111  \n",
       "4  32.78306  -96.80667  "
      ]
     },
     "execution_count": 8,
     "metadata": {},
     "output_type": "execute_result"
    }
   ],
   "source": [
    "headlines_df[\"latitude\"] = headlines_df.apply(\n",
    "    lambda row: get_latlon(row[\"city\"], row[\"countrycode\"])[1], axis=1)\n",
    "headlines_df[\"longitude\"] = headlines_df.apply(\n",
    "    lambda row: get_latlon(row[\"city\"], row[\"countrycode\"])[2], axis=1)\n",
    "\n",
    "headlines_df.drop(columns=[\"country\"], inplace=True)\n",
    "headlines_df.dropna(axis=0, inplace=True)\n",
    "\n",
    "headlines_df.head()"
   ]
  },
  {
   "cell_type": "code",
   "execution_count": 9,
   "metadata": {},
   "outputs": [],
   "source": [
    "headlines_df.to_csv(os.path.join(DATA_DIR, \"headlines-with-latlon.csv\"), index=False)"
   ]
  },
  {
   "cell_type": "code",
   "execution_count": 10,
   "metadata": {},
   "outputs": [
    {
     "data": {
      "text/plain": [
       "600"
      ]
     },
     "execution_count": 10,
     "metadata": {},
     "output_type": "execute_result"
    }
   ],
   "source": [
    "len(headlines_df)"
   ]
  },
  {
   "cell_type": "code",
   "execution_count": null,
   "metadata": {},
   "outputs": [],
   "source": []
  }
 ],
 "metadata": {
  "kernelspec": {
   "display_name": "Python (disease)",
   "language": "python",
   "name": "disease"
  },
  "language_info": {
   "codemirror_mode": {
    "name": "ipython",
    "version": 3
   },
   "file_extension": ".py",
   "mimetype": "text/x-python",
   "name": "python",
   "nbconvert_exporter": "python",
   "pygments_lexer": "ipython3",
   "version": "3.7.6"
  }
 },
 "nbformat": 4,
 "nbformat_minor": 4
}
