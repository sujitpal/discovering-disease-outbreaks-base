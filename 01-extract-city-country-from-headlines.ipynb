{
 "cells": [
  {
   "cell_type": "code",
   "execution_count": 1,
   "metadata": {},
   "outputs": [],
   "source": [
    "import geonamescache\n",
    "import os\n",
    "import pandas as pd\n",
    "import re\n",
    "import string\n",
    "import unidecode"
   ]
  },
  {
   "cell_type": "code",
   "execution_count": 2,
   "metadata": {},
   "outputs": [],
   "source": [
    "DATA_DIR = \"data\""
   ]
  },
  {
   "cell_type": "code",
   "execution_count": 3,
   "metadata": {},
   "outputs": [
    {
     "data": {
      "text/plain": [
       "(252, 51, 24336)"
      ]
     },
     "execution_count": 3,
     "metadata": {},
     "output_type": "execute_result"
    }
   ],
   "source": [
    "gc = geonamescache.GeonamesCache()\n",
    "\n",
    "countries = gc.get_countries()\n",
    "us_states = gc.get_us_states()\n",
    "cities = gc.get_cities()\n",
    "\n",
    "len(countries), len(us_states), len(cities)"
   ]
  },
  {
   "cell_type": "code",
   "execution_count": 4,
   "metadata": {},
   "outputs": [
    {
     "data": {
      "text/plain": [
       "23022"
      ]
     },
     "execution_count": 4,
     "metadata": {},
     "output_type": "execute_result"
    }
   ],
   "source": [
    "city2country = {}\n",
    "for city_key in cities.keys():\n",
    "    city_name = unidecode.unidecode(cities[city_key][\"name\"])\n",
    "    country_code = cities[city_key][\"countrycode\"]\n",
    "    country_name = unidecode.unidecode(countries[country_code][\"name\"])\n",
    "    if city_name in city2country.keys():\n",
    "        city2country[city_name].append(country_name)\n",
    "    else:\n",
    "        city2country[city_name] = [country_name]\n",
    "    \n",
    "len(city2country)"
   ]
  },
  {
   "cell_type": "code",
   "execution_count": 5,
   "metadata": {},
   "outputs": [
    {
     "data": {
      "text/plain": [
       "(252, 51, 24336)"
      ]
     },
     "execution_count": 5,
     "metadata": {},
     "output_type": "execute_result"
    }
   ],
   "source": [
    "def convert_to_list(geoname_dict):\n",
    "    geoname_list = []\n",
    "    for key, value in geoname_dict.items():\n",
    "        geoname_list.append(unidecode.unidecode(value[\"name\"]))\n",
    "    return geoname_list\n",
    "    \n",
    "countries_list = convert_to_list(countries)\n",
    "us_states_list = convert_to_list(us_states)\n",
    "cities_list = convert_to_list(cities)\n",
    "\n",
    "len(countries_list), len(us_states_list), len(cities_list)"
   ]
  },
  {
   "cell_type": "code",
   "execution_count": 6,
   "metadata": {},
   "outputs": [],
   "source": [
    "def pad_punctuation(s):\n",
    "    s = re.sub(\"([{:s}])\".format(string.punctuation), r\" \\1 \", s)\n",
    "    s = re.sub(\"\\s+\", \" \", s)\n",
    "    return \" \" + s + \" \"\n",
    "\n",
    "def create_regex(s):\n",
    "    s = pad_punctuation(s)\n",
    "    return re.compile(s, flags=re.IGNORECASE)\n",
    "        \n",
    "\n",
    "country_patterns = [create_regex(x) for x in countries_list]\n",
    "city_patterns = [create_regex(x) for x in cities_list]\n",
    "us_state_patterns = [create_regex(x) for x in us_states_list]"
   ]
  },
  {
   "cell_type": "code",
   "execution_count": 7,
   "metadata": {},
   "outputs": [],
   "source": [
    "def build_city_prefix_patterns(cities_list):\n",
    "    prefixes = []\n",
    "    for i, city in enumerate(cities_list):\n",
    "        city = city.replace(\"(\", \"\").replace(\")\", \"\")\n",
    "        city_words = city.split()\n",
    "        for j in range(1, len(city_words)):\n",
    "            p = create_regex(\" \".join(city_words[0:j]))\n",
    "            prefixes.append((p, i))\n",
    "    return prefixes\n",
    "\n",
    "def build_city_suffix_patterns(cities_list):\n",
    "    suffixes = []\n",
    "    for i, city in enumerate(cities_list):\n",
    "        city = city.replace(\"(\", \"\").replace(\")\", \"\")\n",
    "        city_words = city.split()\n",
    "        p = create_regex(city_words[-1])\n",
    "        suffixes.append((p, i))\n",
    "    return suffixes\n",
    "\n",
    "\n",
    "city_prefix_patterns = build_city_prefix_patterns(cities_list)\n",
    "city_suffix_patterns = build_city_suffix_patterns(cities_list)"
   ]
  },
  {
   "cell_type": "code",
   "execution_count": 8,
   "metadata": {},
   "outputs": [],
   "source": [
    "def apply_transform(city_name):\n",
    "    if city_name.startswith(\"Saint \"):\n",
    "        return city_name.replace(\"Saint \", \"St . \")\n",
    "    elif city_name.endswith(\"borough\"):\n",
    "        return city_name.replace(\"borough\", \"boro\")\n",
    "    elif city_name.endswith(\"ucau\"):\n",
    "        return city_name.replace(\"ucau\", \"caue\")\n",
    "    else:\n",
    "        return None"
   ]
  },
  {
   "cell_type": "code",
   "execution_count": 9,
   "metadata": {},
   "outputs": [],
   "source": [
    "def find_country(s, country_patterns, countries_list):\n",
    "    for i, country_pattern in enumerate(country_patterns):\n",
    "        m = re.search(country_pattern, s)\n",
    "        if m is not None:\n",
    "            return countries_list[i]\n",
    "    return None\n",
    "\n",
    "def find_state(s, us_state_patterns, us_state_list):\n",
    "    for i, us_state_pattern in enumerate(us_state_patterns):\n",
    "        m = re.search(us_state_pattern, s)\n",
    "        if m is not None:\n",
    "            return us_states_list[i]\n",
    "    return None\n",
    "\n",
    "def find_city(s, city_patterns, cities_list):\n",
    "    matched_cities = []\n",
    "    for i, city_pattern in enumerate(city_patterns):\n",
    "        m = re.search(city_pattern, s)\n",
    "        if m is not None:\n",
    "            matched_cities.append(cities_list[i])\n",
    "    if len(matched_cities) == 0:\n",
    "        # if we couldn't find anything, try applying some common\n",
    "        # transformations and repeat matching\n",
    "        s_trans = apply_transform(s)\n",
    "        if s_trans is not None:\n",
    "            for i, city_pattern in enumerate(city_patterns):\n",
    "                m = re.search(city_pattern, s)\n",
    "                if m is not None:\n",
    "                    matched_cities.append(cities_list[i])\n",
    "    if len(matched_cities) == 0:\n",
    "        for p, k in city_prefix_patterns:\n",
    "            m = re.search(p, s)\n",
    "            if m is not None:\n",
    "                matched_cities.append(cities_list[k])\n",
    "    if len(matched_cities) == 0:\n",
    "        for p, k in city_suffix_patterns:\n",
    "            m = re.search(p, s)\n",
    "            if m is not None:\n",
    "                matched_cities.append(cities_list[k])\n",
    "    if len(matched_cities) > 0:\n",
    "        return sorted(matched_cities, key=lambda x: len(x), reverse=True)[0]\n",
    "    else:\n",
    "        return None\n",
    "\n",
    "def find_country_from_city(city, city2country):\n",
    "    countries = city2country[city]\n",
    "    if countries is None:\n",
    "        return None\n",
    "    else:\n",
    "        return countries[0]"
   ]
  },
  {
   "cell_type": "code",
   "execution_count": 10,
   "metadata": {},
   "outputs": [
    {
     "name": "stdout",
     "output_type": "stream",
     "text": [
      "0 headlines processed\n",
      "100 headlines processed\n",
      "200 headlines processed\n",
      "300 headlines processed\n",
      "400 headlines processed\n",
      "500 headlines processed\n",
      "600 headlines processed\n",
      "650 headlines processed, COMPLETE\n",
      "650 634 1 0 15\n"
     ]
    }
   ],
   "source": [
    "i, num_missed_city, num_missed_country, num_missed_both, num_got_both = 0, 0, 0, 0, 0\n",
    "data = []\n",
    "fhl = open(os.path.join(DATA_DIR, \"headlines.txt\"), \"r\")\n",
    "for line in fhl:\n",
    "    if i % 100 == 0:\n",
    "        print(\"{:d} headlines processed\".format(i))\n",
    "        pass\n",
    "    line = unidecode.unidecode(line.strip())\n",
    "    line_m = pad_punctuation(line)\n",
    "    matched_country = find_country(line_m, country_patterns, countries_list)\n",
    "    matched_city = find_city(line_m, city_patterns, cities_list)\n",
    "    if matched_city is not None and matched_country is None:\n",
    "        matched_country = find_country_from_city(matched_city, city2country)\n",
    "    if matched_country is not None and matched_city is None:\n",
    "        num_missed_city += 1\n",
    "    elif matched_city is not None and matched_country is None:\n",
    "        num_missed_country += 1\n",
    "    elif matched_city is None and matched_country is None:\n",
    "        matched_us_state = find_state(line_m, us_state_patterns, us_states_list)\n",
    "        if matched_us_state is not None:\n",
    "            matched_country = \"United States\"\n",
    "        if matched_country is None:\n",
    "#             print(line, \"|\", matched_city, \"|\", matched_country)\n",
    "            num_missed_both += 1\n",
    "        else:\n",
    "            num_missed_city += 1\n",
    "    else:\n",
    "        num_got_both += 1\n",
    "        pass\n",
    "    data.append([line, matched_city, matched_country])\n",
    "    i += 1\n",
    "\n",
    "print(\"{:d} headlines processed, COMPLETE\".format(i))\n",
    "fhl.close()\n",
    "\n",
    "print(i, num_got_both, num_missed_city, num_missed_country, num_missed_both)"
   ]
  },
  {
   "cell_type": "code",
   "execution_count": 11,
   "metadata": {},
   "outputs": [
    {
     "data": {
      "text/plain": [
       "650"
      ]
     },
     "execution_count": 11,
     "metadata": {},
     "output_type": "execute_result"
    }
   ],
   "source": [
    "data_df = pd.DataFrame(data, columns=[\"headline\", \"city\", \"country\"])\n",
    "data_df.fillna(value=pd.np.nan, inplace=True)\n",
    "\n",
    "len(data_df)"
   ]
  },
  {
   "cell_type": "code",
   "execution_count": 12,
   "metadata": {},
   "outputs": [
    {
     "data": {
      "text/html": [
       "<div>\n",
       "<style scoped>\n",
       "    .dataframe tbody tr th:only-of-type {\n",
       "        vertical-align: middle;\n",
       "    }\n",
       "\n",
       "    .dataframe tbody tr th {\n",
       "        vertical-align: top;\n",
       "    }\n",
       "\n",
       "    .dataframe thead th {\n",
       "        text-align: right;\n",
       "    }\n",
       "</style>\n",
       "<table border=\"1\" class=\"dataframe\">\n",
       "  <thead>\n",
       "    <tr style=\"text-align: right;\">\n",
       "      <th></th>\n",
       "      <th>headline</th>\n",
       "      <th>city</th>\n",
       "      <th>country</th>\n",
       "    </tr>\n",
       "  </thead>\n",
       "  <tbody>\n",
       "    <tr>\n",
       "      <th>17</th>\n",
       "      <td>Louisiana Zika cases up to 26</td>\n",
       "      <td>NaN</td>\n",
       "      <td>United States</td>\n",
       "    </tr>\n",
       "    <tr>\n",
       "      <th>73</th>\n",
       "      <td>Zika case reported in Oton</td>\n",
       "      <td>NaN</td>\n",
       "      <td>NaN</td>\n",
       "    </tr>\n",
       "    <tr>\n",
       "      <th>234</th>\n",
       "      <td>Malaria Exposure in Sussex</td>\n",
       "      <td>NaN</td>\n",
       "      <td>NaN</td>\n",
       "    </tr>\n",
       "    <tr>\n",
       "      <th>248</th>\n",
       "      <td>Greenwich Establishes Zika Task Force</td>\n",
       "      <td>NaN</td>\n",
       "      <td>NaN</td>\n",
       "    </tr>\n",
       "    <tr>\n",
       "      <th>308</th>\n",
       "      <td>More people in Boucau are infected with HIV ev...</td>\n",
       "      <td>NaN</td>\n",
       "      <td>NaN</td>\n",
       "    </tr>\n",
       "  </tbody>\n",
       "</table>\n",
       "</div>"
      ],
      "text/plain": [
       "                                              headline city        country\n",
       "17                       Louisiana Zika cases up to 26  NaN  United States\n",
       "73                          Zika case reported in Oton  NaN            NaN\n",
       "234                         Malaria Exposure in Sussex  NaN            NaN\n",
       "248              Greenwich Establishes Zika Task Force  NaN            NaN\n",
       "308  More people in Boucau are infected with HIV ev...  NaN            NaN"
      ]
     },
     "execution_count": 12,
     "metadata": {},
     "output_type": "execute_result"
    }
   ],
   "source": [
    "data_df[data_df.isnull().any(axis=1)].head()"
   ]
  },
  {
   "cell_type": "code",
   "execution_count": 13,
   "metadata": {},
   "outputs": [
    {
     "data": {
      "text/html": [
       "<div>\n",
       "<style scoped>\n",
       "    .dataframe tbody tr th:only-of-type {\n",
       "        vertical-align: middle;\n",
       "    }\n",
       "\n",
       "    .dataframe tbody tr th {\n",
       "        vertical-align: top;\n",
       "    }\n",
       "\n",
       "    .dataframe thead th {\n",
       "        text-align: right;\n",
       "    }\n",
       "</style>\n",
       "<table border=\"1\" class=\"dataframe\">\n",
       "  <thead>\n",
       "    <tr style=\"text-align: right;\">\n",
       "      <th></th>\n",
       "      <th>headline</th>\n",
       "      <th>city</th>\n",
       "      <th>country</th>\n",
       "    </tr>\n",
       "  </thead>\n",
       "  <tbody>\n",
       "    <tr>\n",
       "      <th>0</th>\n",
       "      <td>Zika Outbreak Hits Miami</td>\n",
       "      <td>Miami</td>\n",
       "      <td>United States</td>\n",
       "    </tr>\n",
       "    <tr>\n",
       "      <th>1</th>\n",
       "      <td>Could Zika Reach New York City?</td>\n",
       "      <td>New York City</td>\n",
       "      <td>United States</td>\n",
       "    </tr>\n",
       "    <tr>\n",
       "      <th>2</th>\n",
       "      <td>First Case of Zika in Miami Beach</td>\n",
       "      <td>Miami Beach</td>\n",
       "      <td>United States</td>\n",
       "    </tr>\n",
       "    <tr>\n",
       "      <th>3</th>\n",
       "      <td>Mystery Virus Spreads in Recife, Brazil</td>\n",
       "      <td>Recife</td>\n",
       "      <td>Brazil</td>\n",
       "    </tr>\n",
       "    <tr>\n",
       "      <th>4</th>\n",
       "      <td>Dallas man comes down with case of Zika</td>\n",
       "      <td>Dallas</td>\n",
       "      <td>United States</td>\n",
       "    </tr>\n",
       "  </tbody>\n",
       "</table>\n",
       "</div>"
      ],
      "text/plain": [
       "                                  headline           city        country\n",
       "0                 Zika Outbreak Hits Miami          Miami  United States\n",
       "1          Could Zika Reach New York City?  New York City  United States\n",
       "2        First Case of Zika in Miami Beach    Miami Beach  United States\n",
       "3  Mystery Virus Spreads in Recife, Brazil         Recife         Brazil\n",
       "4  Dallas man comes down with case of Zika         Dallas  United States"
      ]
     },
     "execution_count": 13,
     "metadata": {},
     "output_type": "execute_result"
    }
   ],
   "source": [
    "data_df.head()"
   ]
  },
  {
   "cell_type": "code",
   "execution_count": 14,
   "metadata": {},
   "outputs": [],
   "source": [
    "data_df.to_csv(os.path.join(DATA_DIR, \"headlines-with-city-country.csv\"), index=False)"
   ]
  },
  {
   "cell_type": "code",
   "execution_count": null,
   "metadata": {},
   "outputs": [],
   "source": []
  }
 ],
 "metadata": {
  "kernelspec": {
   "display_name": "Python (disease)",
   "language": "python",
   "name": "disease"
  },
  "language_info": {
   "codemirror_mode": {
    "name": "ipython",
    "version": 3
   },
   "file_extension": ".py",
   "mimetype": "text/x-python",
   "name": "python",
   "nbconvert_exporter": "python",
   "pygments_lexer": "ipython3",
   "version": "3.7.6"
  }
 },
 "nbformat": 4,
 "nbformat_minor": 4
}
